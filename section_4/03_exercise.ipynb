{
  "nbformat": 4,
  "nbformat_minor": 0,
  "metadata": {
    "colab": {
      "name": "03_exercise.ipynb",
      "provenance": [],
      "collapsed_sections": [],
      "authorship_tag": "ABX9TyMtHcS1g76BkWdqjyRj7dSX",
      "include_colab_link": true
    },
    "kernelspec": {
      "name": "python3",
      "display_name": "Python 3"
    },
    "language_info": {
      "name": "python"
    },
    "accelerator": "GPU"
  },
  "cells": [
    {
      "cell_type": "markdown",
      "metadata": {
        "id": "view-in-github",
        "colab_type": "text"
      },
      "source": [
        "<a href=\"https://colab.research.google.com/github/yukinaga/ai_music/blob/main/section_4/03_exercise.ipynb\" target=\"_parent\"><img src=\"https://colab.research.google.com/assets/colab-badge.svg\" alt=\"Open In Colab\"/></a>"
      ]
    },
    {
      "cell_type": "markdown",
      "metadata": {
        "id": "dPkdg9jTjkTd"
      },
      "source": [
        "# 演習\n",
        "「MusicVAE」により、独自のコード進行からオリジナルの曲を生成しましょう。  \n",
        "生成には時間がかかるので、「編集」→「ノートブックの設定」→「ハードウェア アクセラレータ」で「GPU」を選択しておきましょう。  \n",
        "このノートブックのコードは、以下のリンク先のコードを参考にしています。  \n",
        "https://g.co/magenta/musicvae-colab"
      ]
    },
    {
      "cell_type": "markdown",
      "metadata": {
        "id": "oPKARfZNZ_EA"
      },
      "source": [
        "## ライブラリのインストール"
      ]
    },
    {
      "cell_type": "code",
      "metadata": {
        "id": "PRTOCXhK9YAM"
      },
      "source": [
        "!apt-get update -qq && apt-get install -qq libfluidsynth1 fluid-soundfont-gm build-essential libasound2-dev libjack-dev\n",
        "!pip install -qU pyfluidsynth pretty_midi\n",
        "!pip install -qU magenta\n",
        "\n",
        "!gsutil -q -m cp gs://download.magenta.tensorflow.org/models/music_vae/multitrack/* /content/"
      ],
      "execution_count": null,
      "outputs": []
    },
    {
      "cell_type": "markdown",
      "metadata": {
        "id": "F5-xG4QVx1iK"
      },
      "source": [
        "## ライブラリの導入"
      ]
    },
    {
      "cell_type": "code",
      "metadata": {
        "id": "PuBbvFkNssM3"
      },
      "source": [
        "import numpy as np\n",
        "from google.colab import files\n",
        "\n",
        "import magenta.music as mm\n",
        "from magenta.models.music_vae import configs\n",
        "from magenta.models.music_vae.trained_model import TrainedModel\n",
        "from magenta.music.sequences_lib import concatenate_sequences\n",
        "\n",
        "import note_seq"
      ],
      "execution_count": null,
      "outputs": []
    },
    {
      "cell_type": "markdown",
      "metadata": {
        "id": "_XAYVxmpyLQb"
      },
      "source": [
        "## 各設定値"
      ]
    },
    {
      "cell_type": "code",
      "metadata": {
        "id": "YD3DbsM_rBP5"
      },
      "source": [
        "BATCH_SIZE = 4  # 一度に扱うデータ数\n",
        "Z_SIZE = 512  # 潜在変数の数\n",
        "TOTAL_STEPS = 512  # コードのベクトル化に使用\n",
        "CHORD_DEPTH = 49  # コードのベクトル化に使用\n",
        "SEQ_TIME = 2.0  # 各NoteSequenceの長さ"
      ],
      "execution_count": null,
      "outputs": []
    },
    {
      "cell_type": "markdown",
      "metadata": {
        "id": "FDC_l0Guz-go"
      },
      "source": [
        "## 関数の設定"
      ]
    },
    {
      "cell_type": "code",
      "metadata": {
        "id": "91UHtM2lrNvM"
      },
      "source": [
        "def trim(seqs, seq_time=SEQ_TIME):  # NoteSequenceの長さを揃える\n",
        "    for i in range(len(seqs)):\n",
        "        seqs[i] = mm.extract_subsequence(seqs[i], 0.0, seq_time)\n",
        "        seqs[i].total_time = seq_time\n",
        "\n",
        "def encode_chord(chord):  # コードの文字列をベクトルに変換\n",
        "    index = mm.TriadChordOneHotEncoding().encode_event(chord)\n",
        "    encoded = np.zeros([TOTAL_STEPS, CHORD_DEPTH])\n",
        "    encoded[0,0] = 1.0\n",
        "    encoded[1:,index] = 1.0\n",
        "    return encoded\n",
        "\n",
        "def set_instruments(note_sequences):  # 楽器の調整\n",
        "    for i in range(len(note_sequences)):\n",
        "        for note in note_sequences[i].notes:\n",
        "            if note.is_drum:\n",
        "                note.instrument = 9"
      ],
      "execution_count": null,
      "outputs": []
    },
    {
      "cell_type": "markdown",
      "metadata": {
        "id": "WJHzFw6Z0YRU"
      },
      "source": [
        "## Conditionalなモデルによるオリジナル曲の作曲"
      ]
    },
    {
      "cell_type": "code",
      "metadata": {
        "id": "S3L9yw9Lqh8r"
      },
      "source": [
        "config = configs.CONFIG_MAP[\"hier-multiperf_vel_1bar_med_chords\"]\n",
        "model = TrainedModel(\n",
        "    config,\n",
        "    batch_size=BATCH_SIZE,\n",
        "    checkpoint_dir_or_path=\"/content/model_chords_fb64.ckpt\")"
      ],
      "execution_count": null,
      "outputs": []
    },
    {
      "cell_type": "markdown",
      "metadata": {
        "id": "yJDb3yWxTThS"
      },
      "source": [
        "以下のセルでコード進行を変更し、オリジナルの曲を生成しましょう。"
      ]
    },
    {
      "cell_type": "code",
      "metadata": {
        "id": "HL3woZZywivE"
      },
      "source": [
        "chord_1 = \"Dm\"\n",
        "chord_2 = \"F\"\n",
        "chord_3 = \"Am\"\n",
        "chord_4 = \"G\"\n",
        "chords = [chord_1, chord_2, chord_3, chord_4]\n",
        "\n",
        "num_bars = 32\n",
        "temperature = 0.2\n",
        "\n",
        "z1 = np.random.normal(size=[Z_SIZE])\n",
        "z2 = np.random.normal(size=[Z_SIZE])\n",
        "z = np.array([z1+z2*t for t in np.linspace(0, 1, num_bars)])  # z1とz2の間を線形補間\n",
        "\n",
        "seqs = [\n",
        "    model.decode(\n",
        "        length=TOTAL_STEPS,\n",
        "        z=z[i:i+1, :],\n",
        "        temperature=temperature,\n",
        "        c_input=encode_chord(chords[i%4])\n",
        "        )[0]\n",
        "    for i in range(num_bars)\n",
        "]\n",
        "\n",
        "trim(seqs)\n",
        "set_instruments(seqs)\n",
        "seq = concatenate_sequences(seqs)\n",
        "\n",
        "mm.plot_sequence(seq)\n",
        "mm.play_sequence(seq, synth=mm.fluidsynth)"
      ],
      "execution_count": null,
      "outputs": []
    },
    {
      "cell_type": "code",
      "metadata": {
        "id": "EcmmAToP4WE3"
      },
      "source": [
        "note_seq.sequence_proto_to_midi_file(seq, \"exercise.mid\")  #MIDI　データに変換し保存\n",
        "files.download(\"exercise.mid\")  # ダウンロード"
      ],
      "execution_count": null,
      "outputs": []
    }
  ]
}